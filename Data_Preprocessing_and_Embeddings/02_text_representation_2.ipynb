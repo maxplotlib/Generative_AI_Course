{
 "cells": [
  {
   "cell_type": "code",
   "execution_count": 83,
   "id": "eeb002b0",
   "metadata": {},
   "outputs": [],
   "source": [
    "import pandas as pd\n",
    "pd.set_option(\"display.max_colwidth\", 100)\n",
    "import numpy as np\n",
    "\n",
    "from sklearn.model_selection import train_test_split"
   ]
  },
  {
   "cell_type": "markdown",
   "id": "4c15fcaa",
   "metadata": {},
   "source": [
    "## word2vec"
   ]
  },
  {
   "cell_type": "code",
   "execution_count": 84,
   "id": "fa997b5c",
   "metadata": {},
   "outputs": [],
   "source": [
    "import gensim\n",
    "import gensim.downloader as api "
   ]
  },
  {
   "cell_type": "code",
   "execution_count": 85,
   "id": "1ef3e06c",
   "metadata": {},
   "outputs": [],
   "source": [
    "# load pretrained word vectors\n",
    "wiki_embeddings = api.load(\"glove-wiki-gigaword-100\")"
   ]
  },
  {
   "cell_type": "code",
   "execution_count": 86,
   "id": "0b1f71c2",
   "metadata": {},
   "outputs": [
    {
     "data": {
      "text/plain": [
       "array([-0.32307 , -0.87616 ,  0.21977 ,  0.25268 ,  0.22976 ,  0.7388  ,\n",
       "       -0.37954 , -0.35307 , -0.84369 , -1.1113  , -0.30266 ,  0.33178 ,\n",
       "       -0.25113 ,  0.30448 , -0.077491, -0.89815 ,  0.092496, -1.1407  ,\n",
       "       -0.58324 ,  0.66869 , -0.23122 , -0.95855 ,  0.28262 , -0.078848,\n",
       "        0.75315 ,  0.26584 ,  0.3422  , -0.33949 ,  0.95608 ,  0.065641,\n",
       "        0.45747 ,  0.39835 ,  0.57965 ,  0.39267 , -0.21851 ,  0.58795 ,\n",
       "       -0.55999 ,  0.63368 , -0.043983, -0.68731 , -0.37841 ,  0.38026 ,\n",
       "        0.61641 , -0.88269 , -0.12346 , -0.37928 , -0.38318 ,  0.23868 ,\n",
       "        0.6685  , -0.43321 , -0.11065 ,  0.081723,  1.1569  ,  0.78958 ,\n",
       "       -0.21223 , -2.3211  , -0.67806 ,  0.44561 ,  0.65707 ,  0.1045  ,\n",
       "        0.46217 ,  0.19912 ,  0.25802 ,  0.057194,  0.53443 , -0.43133 ,\n",
       "       -0.34311 ,  0.59789 , -0.58417 ,  0.068995,  0.23944 , -0.85181 ,\n",
       "        0.30379 , -0.34177 , -0.25746 , -0.031101, -0.16285 ,  0.45169 ,\n",
       "       -0.91627 ,  0.64521 ,  0.73281 , -0.22752 ,  0.30226 ,  0.044801,\n",
       "       -0.83741 ,  0.55006 , -0.52506 , -1.7357  ,  0.4751  , -0.70487 ,\n",
       "        0.056939, -0.7132  ,  0.089623,  0.41394 , -1.3363  , -0.61915 ,\n",
       "       -0.33089 , -0.52881 ,  0.16483 , -0.98878 ], dtype=float32)"
      ]
     },
     "execution_count": 86,
     "metadata": {},
     "output_type": "execute_result"
    }
   ],
   "source": [
    "# exploring for the word vector king\n",
    "wiki_embeddings[\"king\"]"
   ]
  },
  {
   "cell_type": "code",
   "execution_count": 87,
   "id": "4c3452be",
   "metadata": {},
   "outputs": [
    {
     "data": {
      "text/plain": [
       "[('prince', 0.7682329416275024),\n",
       " ('queen', 0.7507689595222473),\n",
       " ('son', 0.7020888328552246),\n",
       " ('brother', 0.6985775828361511),\n",
       " ('monarch', 0.6977890729904175),\n",
       " ('throne', 0.691999077796936),\n",
       " ('kingdom', 0.6811410188674927),\n",
       " ('father', 0.6802029013633728),\n",
       " ('emperor', 0.6712858080863953),\n",
       " ('ii', 0.6676074266433716)]"
      ]
     },
     "execution_count": 87,
     "metadata": {},
     "output_type": "execute_result"
    }
   ],
   "source": [
    "# Find the words most similar to king based on this trained model\n",
    "wiki_embeddings.most_similar(\"king\")"
   ]
  },
  {
   "cell_type": "code",
   "execution_count": 88,
   "id": "e57b1c25",
   "metadata": {},
   "outputs": [],
   "source": [
    "# Read in the data and clean up column names\n",
    "data = pd.read_csv(\"./../DATA/spam.csv\", encoding=\"latin-1\")\n",
    "data = data.drop(columns=[\"Unnamed: 2\", \"Unnamed: 3\", \"Unnamed: 4\"])\n",
    "data.columns = [\"label\", \"text\"]"
   ]
  },
  {
   "cell_type": "code",
   "execution_count": 89,
   "id": "2c5d602d",
   "metadata": {},
   "outputs": [
    {
     "data": {
      "text/html": [
       "<div>\n",
       "<style scoped>\n",
       "    .dataframe tbody tr th:only-of-type {\n",
       "        vertical-align: middle;\n",
       "    }\n",
       "\n",
       "    .dataframe tbody tr th {\n",
       "        vertical-align: top;\n",
       "    }\n",
       "\n",
       "    .dataframe thead th {\n",
       "        text-align: right;\n",
       "    }\n",
       "</style>\n",
       "<table border=\"1\" class=\"dataframe\">\n",
       "  <thead>\n",
       "    <tr style=\"text-align: right;\">\n",
       "      <th></th>\n",
       "      <th>label</th>\n",
       "      <th>text</th>\n",
       "    </tr>\n",
       "  </thead>\n",
       "  <tbody>\n",
       "    <tr>\n",
       "      <th>0</th>\n",
       "      <td>ham</td>\n",
       "      <td>Go until jurong point, crazy.. Available only in bugis n great world la e buffet... Cine there g...</td>\n",
       "    </tr>\n",
       "    <tr>\n",
       "      <th>1</th>\n",
       "      <td>ham</td>\n",
       "      <td>Ok lar... Joking wif u oni...</td>\n",
       "    </tr>\n",
       "    <tr>\n",
       "      <th>2</th>\n",
       "      <td>spam</td>\n",
       "      <td>Free entry in 2 a wkly comp to win FA Cup final tkts 21st May 2005. Text FA to 87121 to receive ...</td>\n",
       "    </tr>\n",
       "    <tr>\n",
       "      <th>3</th>\n",
       "      <td>ham</td>\n",
       "      <td>U dun say so early hor... U c already then say...</td>\n",
       "    </tr>\n",
       "    <tr>\n",
       "      <th>4</th>\n",
       "      <td>ham</td>\n",
       "      <td>Nah I don't think he goes to usf, he lives around here though</td>\n",
       "    </tr>\n",
       "  </tbody>\n",
       "</table>\n",
       "</div>"
      ],
      "text/plain": [
       "  label                                                                                                 text\n",
       "0   ham  Go until jurong point, crazy.. Available only in bugis n great world la e buffet... Cine there g...\n",
       "1   ham                                                                        Ok lar... Joking wif u oni...\n",
       "2  spam  Free entry in 2 a wkly comp to win FA Cup final tkts 21st May 2005. Text FA to 87121 to receive ...\n",
       "3   ham                                                    U dun say so early hor... U c already then say...\n",
       "4   ham                                        Nah I don't think he goes to usf, he lives around here though"
      ]
     },
     "execution_count": 89,
     "metadata": {},
     "output_type": "execute_result"
    }
   ],
   "source": [
    "# peek\n",
    "data.head()"
   ]
  },
  {
   "cell_type": "code",
   "execution_count": 90,
   "id": "c317fe7e",
   "metadata": {},
   "outputs": [],
   "source": [
    "# Clean data using the built in cleaner in gensim\n",
    "data[\"cleaned_text\"] = data[\"text\"].apply(lambda x: gensim.utils.simple_preprocess(x))"
   ]
  },
  {
   "cell_type": "code",
   "execution_count": 91,
   "id": "e304153a",
   "metadata": {},
   "outputs": [
    {
     "data": {
      "text/html": [
       "<div>\n",
       "<style scoped>\n",
       "    .dataframe tbody tr th:only-of-type {\n",
       "        vertical-align: middle;\n",
       "    }\n",
       "\n",
       "    .dataframe tbody tr th {\n",
       "        vertical-align: top;\n",
       "    }\n",
       "\n",
       "    .dataframe thead th {\n",
       "        text-align: right;\n",
       "    }\n",
       "</style>\n",
       "<table border=\"1\" class=\"dataframe\">\n",
       "  <thead>\n",
       "    <tr style=\"text-align: right;\">\n",
       "      <th></th>\n",
       "      <th>label</th>\n",
       "      <th>text</th>\n",
       "      <th>cleaned_text</th>\n",
       "    </tr>\n",
       "  </thead>\n",
       "  <tbody>\n",
       "    <tr>\n",
       "      <th>0</th>\n",
       "      <td>ham</td>\n",
       "      <td>Go until jurong point, crazy.. Available only in bugis n great world la e buffet... Cine there g...</td>\n",
       "      <td>[go, until, jurong, point, crazy, available, only, in, bugis, great, world, la, buffet, cine, th...</td>\n",
       "    </tr>\n",
       "    <tr>\n",
       "      <th>1</th>\n",
       "      <td>ham</td>\n",
       "      <td>Ok lar... Joking wif u oni...</td>\n",
       "      <td>[ok, lar, joking, wif, oni]</td>\n",
       "    </tr>\n",
       "    <tr>\n",
       "      <th>2</th>\n",
       "      <td>spam</td>\n",
       "      <td>Free entry in 2 a wkly comp to win FA Cup final tkts 21st May 2005. Text FA to 87121 to receive ...</td>\n",
       "      <td>[free, entry, in, wkly, comp, to, win, fa, cup, final, tkts, st, may, text, fa, to, to, receive,...</td>\n",
       "    </tr>\n",
       "    <tr>\n",
       "      <th>3</th>\n",
       "      <td>ham</td>\n",
       "      <td>U dun say so early hor... U c already then say...</td>\n",
       "      <td>[dun, say, so, early, hor, already, then, say]</td>\n",
       "    </tr>\n",
       "    <tr>\n",
       "      <th>4</th>\n",
       "      <td>ham</td>\n",
       "      <td>Nah I don't think he goes to usf, he lives around here though</td>\n",
       "      <td>[nah, don, think, he, goes, to, usf, he, lives, around, here, though]</td>\n",
       "    </tr>\n",
       "  </tbody>\n",
       "</table>\n",
       "</div>"
      ],
      "text/plain": [
       "  label  ...                                                                                         cleaned_text\n",
       "0   ham  ...  [go, until, jurong, point, crazy, available, only, in, bugis, great, world, la, buffet, cine, th...\n",
       "1   ham  ...                                                                          [ok, lar, joking, wif, oni]\n",
       "2  spam  ...  [free, entry, in, wkly, comp, to, win, fa, cup, final, tkts, st, may, text, fa, to, to, receive,...\n",
       "3   ham  ...                                                       [dun, say, so, early, hor, already, then, say]\n",
       "4   ham  ...                                [nah, don, think, he, goes, to, usf, he, lives, around, here, though]\n",
       "\n",
       "[5 rows x 3 columns]"
      ]
     },
     "execution_count": 91,
     "metadata": {},
     "output_type": "execute_result"
    }
   ],
   "source": [
    "# peek to check new column\n",
    "data.head()"
   ]
  },
  {
   "cell_type": "code",
   "execution_count": 92,
   "id": "72a137de",
   "metadata": {},
   "outputs": [],
   "source": [
    "# Split data into train and test sets\n",
    "X = data[\"cleaned_text\"]\n",
    "y = data[\"label\"]\n",
    "X_train, X_test, y_train, y_test = train_test_split(X, y, test_size=.2)"
   ]
  },
  {
   "cell_type": "code",
   "execution_count": 93,
   "id": "8a896c53",
   "metadata": {},
   "outputs": [
    {
     "data": {
      "text/plain": [
       "(241916, 317290)"
      ]
     },
     "execution_count": 93,
     "metadata": {},
     "output_type": "execute_result"
    }
   ],
   "source": [
    "# Train the word2vec model\n",
    "w2v_model = gensim.models.Word2Vec(vector_size=100, window=5, min_count=2)\n",
    "w2v_model.build_vocab(X_train)\n",
    "w2v_model.train(X_train, total_examples=w2v_model.corpus_count, epochs=w2v_model.epochs)"
   ]
  },
  {
   "cell_type": "code",
   "execution_count": 94,
   "id": "6a011611",
   "metadata": {},
   "outputs": [
    {
     "data": {
      "text/plain": [
       "array([-0.05201751,  0.05199692,  0.02610636,  0.00249891,  0.00444603,\n",
       "       -0.12647581,  0.06698973,  0.15534317, -0.05369888, -0.0716176 ,\n",
       "       -0.04915069, -0.07898469, -0.01976242,  0.02804947,  0.02965663,\n",
       "       -0.05393755,  0.00526644, -0.04550261, -0.00899211, -0.14256194,\n",
       "        0.05493692,  0.02498526,  0.05035293, -0.06732663, -0.02427477,\n",
       "        0.00092512, -0.06136346, -0.04174254, -0.03787519,  0.01552656,\n",
       "        0.05572938,  0.00255378,  0.02925463, -0.07840391, -0.02743652,\n",
       "        0.09920113,  0.0228102 , -0.03637904, -0.04697398, -0.1095472 ,\n",
       "        0.00983425, -0.07732075, -0.03736102,  0.01495052,  0.07554429,\n",
       "       -0.0080024 , -0.05246867, -0.00321334,  0.03820533,  0.01366043,\n",
       "        0.03317934, -0.0719398 ,  0.00064927,  0.00182583, -0.03952695,\n",
       "        0.00532693,  0.05121961, -0.00247967, -0.08785013,  0.02707108,\n",
       "        0.00113539,  0.04829653, -0.0002375 ,  0.0156558 , -0.08421139,\n",
       "        0.07579385, -0.00157904,  0.05663024, -0.10685826,  0.10407928,\n",
       "       -0.07883332,  0.03322305,  0.0760354 , -0.00236737,  0.11338216,\n",
       "        0.0466784 ,  0.00043378, -0.01363441, -0.06197268,  0.01038162,\n",
       "       -0.05799395, -0.01438397, -0.08034177,  0.12288749, -0.01851332,\n",
       "       -0.00707187,  0.01664233,  0.10814563,  0.08320915,  0.01402827,\n",
       "        0.06999931,  0.05816954,  0.02098859,  0.01994628,  0.12919855,\n",
       "        0.06593528,  0.02482019, -0.06517711,  0.00490909,  0.00571676],\n",
       "      dtype=float32)"
      ]
     },
     "execution_count": 94,
     "metadata": {},
     "output_type": "execute_result"
    }
   ],
   "source": [
    "# Explore the word vector for \"king\" base on our trained model\n",
    "w2v_model.wv[\"king\"]"
   ]
  },
  {
   "cell_type": "code",
   "execution_count": 95,
   "id": "aec78fcb",
   "metadata": {},
   "outputs": [
    {
     "data": {
      "text/plain": [
       "[('thanks', 0.9949692487716675),\n",
       " ('didnt', 0.9949305653572083),\n",
       " ('our', 0.9948911070823669),\n",
       " ('box', 0.9948787093162537),\n",
       " ('xmas', 0.9948737621307373),\n",
       " ('camera', 0.9948344230651855),\n",
       " ('to', 0.9948233962059021),\n",
       " ('more', 0.9948000907897949),\n",
       " ('those', 0.9947593808174133),\n",
       " ('or', 0.9947556853294373)]"
      ]
     },
     "execution_count": 95,
     "metadata": {},
     "output_type": "execute_result"
    }
   ],
   "source": [
    "w2v_model.wv.most_similar(\"king\")"
   ]
  },
  {
   "cell_type": "code",
   "execution_count": 96,
   "id": "677b604a",
   "metadata": {},
   "outputs": [
    {
     "data": {
      "text/plain": [
       "(100,)"
      ]
     },
     "execution_count": 96,
     "metadata": {},
     "output_type": "execute_result"
    }
   ],
   "source": [
    "w2v_model.wv[\"king\"].shape"
   ]
  },
  {
   "cell_type": "code",
   "execution_count": 98,
   "id": "7f7dd640",
   "metadata": {},
   "outputs": [
    {
     "data": {
      "text/plain": [
       "0.7177754"
      ]
     },
     "execution_count": 98,
     "metadata": {},
     "output_type": "execute_result"
    }
   ],
   "source": [
    "# Cosine similarity\n",
    "w2v_model.wv.similarity(\"king\", \"queen\")"
   ]
  },
  {
   "cell_type": "code",
   "execution_count": 99,
   "id": "5dd6c70b",
   "metadata": {},
   "outputs": [
    {
     "data": {
      "text/plain": [
       "array([[-0.07795167,  0.08224536,  0.03171175, ..., -0.1042738 ,\n",
       "         0.02183773, -0.00191008],\n",
       "       [-0.07895141,  0.08146629,  0.03221877, ..., -0.10575425,\n",
       "         0.02096343,  0.00175117],\n",
       "       [-0.07287569,  0.08219016,  0.02569381, ..., -0.09859344,\n",
       "         0.02777221, -0.0061619 ],\n",
       "       ...,\n",
       "       [-0.06356505,  0.12715638, -0.02951374, ..., -0.15374829,\n",
       "         0.0733623 ,  0.03816374],\n",
       "       [-0.07138442,  0.03804385,  0.06966289, ..., -0.04707469,\n",
       "         0.02738026,  0.03870334],\n",
       "       [-0.07949615,  0.09303778,  0.00032555, ..., -0.09124443,\n",
       "         0.0238862 ,  0.01884885]], dtype=float32)"
      ]
     },
     "execution_count": 99,
     "metadata": {},
     "output_type": "execute_result"
    }
   ],
   "source": [
    "# Get all vectors of our corpus that the model trained on\n",
    "w2v_model.wv.get_normed_vectors()"
   ]
  },
  {
   "cell_type": "code",
   "execution_count": 100,
   "id": "9cd3f7ea",
   "metadata": {},
   "outputs": [
    {
     "name": "stdout",
     "output_type": "stream",
     "text": [
      "['you', 'to', 'the', 'and', 'in', 'is', 'me', 'my', 'it', 'for', 'your', 'call', 'of', 'have', 'that', 'on', 'now', 'are', 'can', 'so', 'but', 'not', 'or', 'ur', 'do', 'we', 'at', 'get', 'be', 'if', 'just', 'will', 'with', 'no', 'this', 'gt', 'lt', 'up', 'how', 'when', 'from', 'what', 'ok', 'go', 'll', 'free', 'all', 'know', 'good', 'out', 'like', 'am', 'day', 'there', 'he', 'was', 'got', 'then', 'come', 'its', 'time', 'love', 'only', 'want', 'text', 'send', 'as', 'txt', 'one', 'about', 'stop', 'see', 'sorry', 'going', 'today', 'don', 'home', 'by', 'need', 'mobile', 'she', 'da', 'lor', 'tell', 'still', 'reply', 'back', 'hi', 'dont', 'new', 'our', 'later', 'think', 'they', 'take', 'pls', 'please', 'did', 'phone', 'any', 'some', 'been', 'here', 'week', 'an', 'dear', 'her', 'night', 'claim', 'much', 'where', 'has', 'ì_', 'great', 'well', 'hope', 'who', 're', 'msg', 'oh', 'hey', 'him', 'wat', 'too', 'more', 'happy', 'had', 'give', 'work', 'message', 'yes', 've', 'make', 'won', 'said', 'tomorrow', 'prize', 'should', 'right', 'number', 'after', 'www', 'doing', 'way', 'im', 'amp', 'last', 'say', 'already', 'why', 'cash', 'meet', 'very', 'find', 'really', 'babe', 'yeah', 'would', 'uk', 'let', 'ask', 'morning', 'life', 'also', 'thanks', 'them', 'sent', 'miss', 'feel', 'win', 'every', 'anything', 'lol', 'cos', 'urgent', 'nokia', 'com', 'cant', 'sure', 'over', 'care', 'again', 'thing', 'min', 'before', 'contact', 'soon', 'nice', 'pick', 'keep', 'wait', 'next', 'us', 'someone', 'were', 'box', 'service', 'his', 'sms', 'other', 'tone', 'mins', 'even', 'went', 'help', 'something', 'sleep', 'chat', 'co', 'per', 'off', 'place', 'customer', 'which', 'leave', 'st', 'around', 'friends', 'things', 'ya', 'money', 'first', 'late', 'buy', 'dun', 'wan', 'guaranteed', 'waiting', 'told', 'tonight', 'friend', 'always', 'pm', 'done', 'special', 'may', 'many', 'down', 'fine', 'people', 'wish', 'hello', 'ìï', 'name', 'trying', 'could', 'same', 'use', 'gud', 'year', 'yet', 'best', 'gonna', 'few', 'coming', 'thk', 'live', 'days', 'thats', 'getting', 'yup', 'ppm', 'line', 'stuff', 'heart', 'haha', 'finish', 'person', 'th', 'try', 'holiday', 'god', 'didn', 'class', 'job', 'lunch', 'guess', 'smile', 'talk', 'never', 'meeting', 'thought', 'mind', 'better', 'cs', 'problem', 'real', 'account', 'ill', 'car', 'because', 'latest', 'draw', 'sir', 'man', 'dat', 'having', 'than', 'being', 'lot', 'camera', 'end', 'long', 'pobox', 'hrs', 'bit', 'shows', 'into', 'chance', 'month', 'ready', 'eat', 'check', 'big', 'enjoy', 'bt', 'cool', 'luv', 'house', 'watch', 'start', 'xxx', 'wont', 'po', 'quite', 'thanx', 'guys', 'girl', 'wanna', 'receive', 'speak', 'video', 'apply', 'liao', 'nothing', 'boy', 'awarded', 'shit', 'birthday', 'princess', 'landline', 'ever', 'ah', 'lar', 'den', 'code', 'sat', 'dinner', 'pa', 'half', 'world', 'sweet', 'award', 'dis', 'tones', 'offer', 'face', 'called', 'watching', 'nd', 'hour', 'play', 'weekend', 'without', 'probably', 'bed', 'left', 'ringtone', 'bus', 'cost', 'remember', 'wk', 'another', 'rate', 'baby', 'anyway', 'bad', 'might', 'yo', 'looking', 'nite', 'guy', 'while', 'those', 'shopping', 'look', 'kiss', 'missing', 'didnt', 'network', 'entry', 'thank', 'wife', 'xx', 'early', 'join', 'age', 'true', 'little', 'details', 'xmas', 'valid', 'jus', 'forgot', 'maybe', 'pay', 'years', 'asked', 'plan', 'fun', 'dad', 'aight', 'evening', 'between', 'actually', 'selected', 'afternoon', 'says', 'office', 'word', 'two', 'must', 'bring', 'made', 'once', 'calls', 'hear', 'most', 'leh', 'tv', 'enough', 'show', 'de', 'dunno', 'room', 'price', 'came', 'until', 'pain', 'collect', 'town', 'orange', 'wif', 'easy', 'update', 'everything', 'does', 'put', 'mail', 'hair', 'abt', 'shall', 'away', 'wanted', 'missed', 'able', 'double', 'words', 'saw', 'hours', 'important', 'sexy', 'mob', 'wake', 'goin', 'decimal', 'bored', 'til', 'wot', 'school', 'club', 'beautiful', 'hurt', 'goes', 'plz', 'shop', 'reach', 'juz', 'book', 'messages', 'texts', 'though', 'id', 'times', 'tmr', 'online', 'means', 'part', 'working', 'oso', 'fuck', 'making', 'gift', 'colour', 'else', 'attempt', 'yours', 'sad', 'test', 'todays', 'collection', 'makes', 'dreams', 'wid', 'change', 'till', 'story', 'optout', 'stay', 'hav', 'wants', 'info', 'lei', 'since', 'poly', 'okay', 'address', 'chikku', 'dude', 'run', 'both', 'date', 'gr', 'eve', 'alright', 'http', 'yourself', 'charge', 'games', 'these', 'family', 'nt', 'ring', 'simple', 'game', 'movie', 'minutes', 'delivery', 'yesterday', 'pub', 'hot', 'rite', 'knw', 'parents', 'music', 'leaving', 'noe', 'feeling', 'plus', 'took', 'set', 'sch', 'drive', 'driving', 'pounds', 'msgs', 'busy', 'hl', 'havent', 'comes', 'top', 'either', 'lets', 'weekly', 'tot', 'net', 'national', 'together', 'minute', 'food', 'points', 'wen', 'news', 'worry', 'ard', 'mom', 'tried', 'vouchers', 'walk', 'land', 'happen', 'started', 'brother', 'mths', 'lose', 'row', 'friendship', 'coz', 'second', 'pics', 'girls', 'believe', 'haf', 'private', 'cause', 'answer', 'trip', 'tomo', 'question', 'choose', 'old', 'full', 'finished', 'wil', 'saying', 'lots', 'doesn', 'content', 'hand', 'angry', 'awesome', 'voucher', 'suite', 'gbp', 'bonus', 'congrats', 'break', 'touch', 'await', 'everyone', 'post', 'rs', 'mean', 'prob', 'neva', 'sae', 'worth', 'tho', 'sleeping', 'needs', 'gone', 'email', 'expires', 'mine', 'friday', 'whats', 'statement', 'savamob', 'party', 'dating', 'search', 'order', 'bout', 'close', 'opt', 'available', 'forget', 'alone', 'smoke', 'calling', 'found', 'sister', 'sun', 'card', 'pic', 'happened', 'lucky', 'services', 'frnds', 'ltd', 'loving', 'kind', 'drink', 'haven', 'huh', 'winner', 'operator', 'press', 'earlier', 'mates', 'treat', 'fr', 'open', 'frnd', 'congratulations', 'mobiles', 'college', 'wit', 'head', 'carlos', 'hit', 'yr', 'freemsg', 'far', 'lesson', 'oredi', 'taking', 'lands', 'etc', 'each', 'offers', 'least', 'thinks', 'anyone', 'secret', 'felt', 'unsubscribe', 'sea', 'goodmorning', 'aft', 'cut', 'identifier', 'lovely', 'snow', 'type', 'meant', 'light', 'gal', 'used', 'mum', 'heard', 'sunday', 'saturday', 'john', 'ha', 'auction', 'jay', 'confirm', 'father', 'whatever', 'tc', 'whole', 'happiness', 'frm', 'mobileupd', 'crazy', 'finally', 'wrong', 'hard', 'nope', 'fone', 'reason', 'fast', 'weeks', 'darlin', 'song', 'fri', 'blue', 'credit', 'outside', 'ni', 'months', 'smiling', 'decided', 'read', 'welcome', 'bslvyl', 'download', 'sis', 'final', 'hows', 'sounds', 'park', 'dnt', 'hmm', 'thinking', 'tel', 'wonderful', 'course', 'case', 'mr', 'sex', 'invited', 'mu', 'their', 'tired', 'dogging', 'cum', 'match', 'smth', 'remove', 'side', 'telling', 'reward', 'û_', 'uncle', 'un', 'feels', 'truth', 'reveal', 'gd', 'ans', 'difficult', 'yrs', 'wq', 'gn', 'hee', 'phones', 'lost', 'joy', 'okie', 'company', 'boytoy', 'seen', 'anytime', 'rental', 'currently', 'caller', 'player', 'fancy', 'almost', 'wap', 'fucking', 'bank', 'log', 'discount', 'hold', 'entered', 'valued', 'motorola', 'ten', 'ish', 'ugh', 'wow', 'paper', 'txts', 'knew', 'nyt', 'askd', 'loads', 'std', 'somebody', 'redeemed', 'camcorder', 'ts', 'xy', 'luck', 'extra', 'checking', 'direct', 'questions', 'ringtones', 'red', 'india', 'rd', 'through', 'asap', 'die', 'listen', 'rest', 'ago', 'picking', 'met', 'glad', 'ass', 'somewhere', 'seeing', 'unlimited', 'wkly', 'supposed', 'comp', 'ipod', 'balance', 'reading', 'asking', 'talking', 'empty', 'plans', 'callertune', 'wasn', 'booked', 'crave', 'point', 'eh', 'gas', 'numbers', 'mate', 'charged', 'hw', 'ac', 'nah', 'txting', 'chennai', 'grins', 'wonder', 'isn', 'pass', 'sound', 'support', 'computer', 'ends', 'colleagues', 'tonite', 'oops', 'del', 'within', 'tickets', 'rain', 'comin', 'hungry', 'bb', 'figure', 'sell', 'silent', 'own', 'otherwise', 'moral', 'quiz', 'surprise', 'fact', 'move', 'eyes', 'understand', 'eg', 'representative', 'gave', 'kate', 'via', 'lect', 'using', 'others', 'safe', 'mode', 'link', 'correct', 'area', 'forever', 'accept', 'ho', 'gettin', 'mrng', 'sofa', 'wc', 'sort', 'shower', 'christmas', 'hg', 'different', 'visit', 'project', 'hiya', 'abiola', 'na', 'pc', 'flag', 'boss', 'orchard', 'mayb', 'rply', 'admirer', 'cr', 'ntt', 'hospital', 'voice', 'ldn', 'staying', 'england', 'lovable', 'rates', 'yar', 'drop', 'deal', 'sending', 'gym', 'hmmm', 'woke', 'whenever', 'water', 'bcoz', 'laptop', 'charity', 'nobody', 'sk', 'rock', 'leaves', 'pete', 'wishing', 'ending', 'write', 'complimentary', 'against', 'cover', 'itself', 'seriously', 'men', 'couple', 'south', 'goodnight', 'ûò', 'cinema', 'bath', 'ex', 'study', 'em', 'cancel', 'immediately', 'ice', 'laugh', 'takes', 'inc', 'energy', 'across', 'situation', 'request', 'exam', 'decide', 'copy', 'small', 'film', 'cheers', 'rcvd', 'ip', 'fullonsms', 'ge', 'dream', 'max', 'poor', 'normal', 'save', 'mm', 'darren', 'wondering', 'train', 'rakhesh', 'gets', 'vl', 'fault', 'slowly', 'wine', 'din', 'coffee', 'bill', 'usf', 'bak', 'round', 'urself', 'bluetooth', 'sony', 'style', 'gotta', 'none', 'getzed', 'entitled', 'catch', 'moon', 'promise', 'digital', 'al', 'apartment', 'pray', 'studying', 'summer', 'weed', 'slow', 'matches', 'drugs', 'bathe', 'lazy', 'er', 'especially', 'brings', 'ones', 'usual', 'trust', 'police', 'la', 'sub', 'enter', 'ive', 'wana', 'fixed', 'seems', 'dead', 'yoga', 'air', 'longer', 'flirt', 'weekends', 'quality', 'pix', 'muz', 'forwarded', 'tampa', 'cc', 'black', 'kinda', 'unless', 'reached', 'sight', 'worried', 'excellent', 'spent', 'opinion', 'movies', 'workin', 'paid', 'norm', 'stupid', 'kids', 'credits', 'deep', 'street', 'terms', 'hurts', 'during', 'changed', 'running', 'iam', 'bold', 'lift', 'planning', 'spend', 'pleasure', 'slave', 'giving', 'polys', 'mo', 'hurry', 'yahoo', 'funny', 'tht', 'sunshine', 'cd', 'nxt', 'comuk', 'sale', 'warm', 'clean', 'mrt', 'myself', 'lover', 'convey', 'arrive', 'member', 'stand', 'eating', 'king', 'behind', 'il', 'ticket', 'training', 'looks', 'trouble', 'players', 'holding', 'bx', 'high', 'awake', 'wednesday', 'shd', 'bag', 'reaching', 'wishes', 'unsub', 'mp', 'bedroom', 'mood', 'doctor', 'cake', 'yep', 'insurance', 'starts', 'monday', 'hr', 'information', 'specially', 'meh', 'pound', 'idea', 'children', 'hoping', 'short', 'under', 'near', 'feb', 'future', 'izzit', 'march', 'knows', 'weight', 'facebook', 'quick', 'sim', 'power', 'pretty', 'merry', 'menu', 'picked', 'cheap', 'freephone', 'sitting', 'joke', 'wiv', 'frens', 'tncs', 'library', 'envelope', 'goto', 'instead', 'ppmx', 'ldew', 'medical', 'forward', 'learn', 'battery', 'amazing', 'shouldn', 'loved', 'swt', 'ahead', 'spree', 'sp', 'return', 'sed', 'simply', 'personal', 'password', 'anymore', 'five', 'arrange', 'lemme', 'married', 'semester', 'screaming', 'share', 'valentines', 'tuition', 'law', 'random', 'walking', 'self', 'lady', 'mad', 'budget', 'flights', 'teasing', 'croydon', 'moment', 'replied', 'shuhui', 'worries', 'wb', 'melle', 'fingers', 'stoptxt', 'eatin', 'recently', 'naked', 'doin', 'happening', 'dey', 'wx', 'sick', 'sign', 'ave', 'listening', 'hmv', 'yay', 'inside', 'matter', 'tea', 'page', 'excuse', 'cuz', 'mah', 'mon', 'arcade', 'earth', 'space', 'hop', 'starting', 'store', 'putting', 'version', 'dvd', 'showing', 'tuesday', 'slept', 'loves', 'ad', 'rose', 'lacs', 'persons', 'costå', 'xh', 'joined', 'wa', 'sol', 'costa', 'model', 'moan', 'plenty', 'gee', 'scream', 'cup', 'noon', 'mother', 'added', 'reference', 'tough', 'road', 'thts', 'pizza', 'realy', 'wnt', 'complete', 'hv', 'marriage', 'waste', 'process', 'interested', 'less', 'station', 'single', 'maximize', 'character', 'fantastic', 'cute', 'kick', 'registered', 'planned', 'swing', 'bid', 'buying', 'ta', 'vary', 'joking', 'damn', 'experience', 'heavy', 'happens', 'door', 'kano', 'nature', 'thnk', 'announcement', 'bugis', 'custcare', 'meaning', 'bucks', 'fat', 'holder', 'paying', 'click', 'rent', 'login', 'raining', 'mrw', 'tariffs', 'tear', 'isnt', 'cafe', 'social', 'possible', 'team', 'dog', 'app', 'meds', 'receipt', 'logo', 'holla', 'serious', 'guide', 'blood', 'deliver', 'daddy', 'fall', 'super', 'bother', 'boo', 'sum', 'thurs', 'latr', 'birds', 'kallis', 'askin', 'boston', 'couldn', 'midnight', 'naughty', 'sometimes', 'brand', 'hotel', 'gives', 'nimya', 'ended', 'ttyl', 'drinks', 'awaiting', 'daily', 'notice', 'definitely', 'babes', 'minuts', 'wats', 'usually', 'indian', 'bcm', 'spoke', 'problems', 'gb', 'roommate', 'costs', 'fetch', 'wins', 'exams', 'airport', 'london', 'biz', 'records', 'green', 'ec', 'kept', 'mid', 'laid', 'april', 'places', 'kb', 'argument', 'loyalty', 'unsold', 'vry', 'bye', 'amt', 'track', 'ladies', 'user', 'season', 'contacted', 'shirt', 'lonely', 'gay', 'stockport', 'towards', 'toclaim', 'aathi', 'honey', 'wherever', 'barely', 'wed', 'add', 'list', 'fix', 'ls', 'ate', 'uz', 'subs', 'however', 'onto', 'cannot', 'access', 'aint', 'euro', 'stylish', 'lmao', 'completely', 'hate', 'tat', 'miracle', 'hook', 'following', 'campus', 'vodafone', 'vote', 'keeping', 'appreciate', 'callers', 'died', 'loan', 'omg', 'qatar', 'umma', 'begin', 'original', 'weak', 'aha', 'country', 'official', 'tour', 'worse', 'tells', 'cancer', 'eng', 'selling', 'gm', 'acc', 'directly', 'nights', 'jazz', 'thru', 'voda', 'connection', 'sit', 'wun', 'spl', 'ru', 'dollars', 'texting', 'loverboy', 'system', 'zed', 'inclusive', 'exciting', 'quoting', 'standard', 'tenerife', 'jst', 'singles', 'sunny', 'weather', 'english', 'dint', 'thinkin', 'obviously', 'drug', 'lessons', 'horny', 'rather', 'torch', 'mistake', 'village', 'cell', 'fyi', 'charges', 'rem', 'sighs', 'interesting', 'fren', 'transaction', 'cm', 'cabin', 'sipix', 'theatre', 'past', 'ages', 'december', 'tt', 'fb', 'depends', 'salary', 'fantasies', 'totally', 'everybody', 'buzz', 'sense', 'txtauction', 'exactly', 'relax', 'internet', 'oz', 'gap', 'created', 'white', 'bought', 'six', 'videochat', 'cds', 'thatåõs', 'rays', 'rentl', 'ym', 'dload', 'tscs', 'egg', 'living', 'noline', 'reasons', 'amount', 'kusruthi', 'wu', 'wonders', 'videophones', 'paris', 'searching', 'iz', 'further', 'hun', 'biggest', 'meetin', 'radio', 'ure', 'java', 'armand', 'smokes', 'hip', 'chinese', 'frndship', 'cry', 'takin', 'ar', 'matured', 'ignore', 'somethin', 'marry', 'asks', 'present', 'italian', 'laughing', 'losing', 'imagine', 'personality', 'intelligent', 'cha', 'june', 'informed', 'jada', 'body', 'greet', 'handset', 'thursday', 'blank', 'apparently', 'due', 'horrible', 'mtmsg', 'ache', 'lookin', 'fills', 'gaps', 'posted', 'jesus', 'queen', 'xchat', 'understanding', 'aiyo', 'mas', 'fa', 'local', 'tm', 'carefully', 'receiving', 'shortly', 'hostel', 'subscription', 'teach', 'role', 'partner', 'urn', 'bloomberg', 'ahmad', 'str', 'buns', 'remain', 'spk', 'spook', 'btw', 'expect', 'infernal', 'pod', 'becoz', 'polyphonic', 'lecture', 'txtin', 'recd', 'dare', 'tis', 'relation', 'stopped', 'quote', 'shame', 'selection', 'gravity', 'truly', 'doesnt', 'gorgeous', 'celebrate', 'ron', 'milk', 'sha', 'sing', 'omw', 'yest', 'yogasana', 'hp', 'cal', 'textpod', 'anyways', 'smiles', 'lik', 'alex', 'childish', 'smart', 'belovd', 'flower', 'cartoon', 'wt', 'revealed', 'answering', 'temple', 'needed', 'themob', 'doc', 'aiyah', 'texted', 'hanging', 'vikky', 'careful', 'allah', 'drivin', 'idiot', 'practice', 'respect', 'gently', 'si', 'dem', 'oni', 'jordan', 'boost', 'darling', 'letter', 'stock', 'hell', 'closer', 'preferably', 'career', 'subscriber', 'howz', 'miles', 'advance', 'report', 'unable', 'interview', 'pussy', 'comedy', 'often', 'whom', 'masters', 'sura', 'followed', 'checked', 'dates', 'murderer', 'released', 'malaria', 'vip', 'fighting', 'accidentally', 'files', 'locations', 'sam', 'hug', 'except', 'alrite', 'largest', 'donåõt', 'atm', 'cream', 'throw', 'callså', 'pg', 'inviting', 'site', 'kerala', 'settings', 'murdered', 'derek', 'purchase', 'mite', 'freefone', 'hols', 'opportunity', 'expecting', 'valentine', 'results', 'turns', 'disturb', 'roger', 'bahamas', 'enemy', 'murder', 'basic', 'taunton', 'pple', 'replying', 'yun', 'aiyar', 'def', 'urawinner', 'pig', 'seem', 'church', 'yijue', 'pin', 'nyc', 'straight', 'profit', 'url', 'maid', 'hella', 'ref', 'iåõm', 'linerental', 'tcr', 'jokes', 'pictures', 'three', 'med', 'hunny', 'expensive', 'website', 'adult', 'urgnt', 'key', 'sec', 'nvm', 'sonyericsson', 'sky', 'ride', 'essential', 'fight', 'oru', 'ldnw', 'fantasy', 'yuo', 'bin', 'fool', 'ordered', 'songs', 'giv', 'basically', 'waking', 'argue', 'kidz', 'prabha', 'woman', 'travel', 'qp', 'contract', 'santa', 'sooner', 'theory', 'bowl', 'grl', 'closed', 'flat', 'tihs', 'asleep', 'pie', 'weird', 'boring', 'yer', 'including', 'addicted', 'pilates', 'cust', 'wise', 'prizes', 'bat', 'california', 'callcost', 'cat', 'csbcm', 'xxxx', 'lotr', 'wkg', 'wer', 'havin', 'along', 'beware', 'soup', 'unique', 'tf', 'tick', 'books', 'prospects', 'transfered', 'embarassed', 'freak', 'fathima', 'female', 'speechless', 'tree', 'sheets', 'abi', 'tom', 'boys', 'reality', 'measure', 'uks', 'msgrcvdhg', 'banks', 'missin', 'adore', 'ths', 'maxå', 'cleared', 'footprints', 'captain', 'wallpaper', 'played', 'chosen', 'scotland', 'package', 'fit', 'yeh', 'legal', 'advice', 'goodnite', 'gary', 'vava', 'include', 'skype', 'moms', 'turn', 'regular', 'leona', 'legs', 'picture', 'cars', 'current', 'minnaminunginte', 'nurungu', 'vettam', 'anywhere', 'child', 'hint', 'outstanding', 'american', 'crab', 'wedding', 'photo', 'jhl', 'ptbo', 'tb', 'gentle', 'sorting', 'cn', 'kisses', 'suprman', 'eaten', 'parked', 'settled', 'meal', 'membership', 'bottle', 'ringtoneking', 'sept', 'whether', 'yetunde', 'ph', 'spending', 'mnth', 'normally', 'february', 'cramps', 'starwars', 'bitch', 'rude', 'switch', 'history', 'subscribe', 'mobilesdirect', 'nearly', 'inches', 'matrix', 'iq', 'dresser', 'goal', 'dirty', 'arsenal', 'booking', 'chill', 'finishes', 'touched', 'wouldn', 'fml', 'broke', 'knackered', 'lido', 'nigeria', 'alfie', 'sup', 'wanting', 'discuss', 'loss', 'received', 'nokias', 'conditions', 'surfing', 'hai', 'wkend', 'four', 'rooms', 'looked', 'painful', 'pages', 'jiu', 'yan', 'bay', 'respond', 'remembered', 'machan', 'alert', 'cross', 'wisdom', 'sry', 'city', 'ubi', 'rang', 'research', 'concert', 'sorted', 'chain', 'thangam', 'standing', 'potential', 'intro', 'common', 'ideas', 'evng', 'wylie', 'nat', 'wks', 'bf', 'nan', 'tlp', 'karaoke', 'hands', 'jan', 'remind', 'usc', 'favourite', 'talent', 'rcv', 'roommates', 'previous', 'settle', 'loses', 'likely', 'warner', 'google', 'boye', 'august', 'clock', 'pending', 'software', 'indians', 'credited', 'argh', 'liverpool', 'mall', 'beyond', 'spoken', 'havnt', 'flash', 'teeth', 'sucks', 'bstfrnd', 'luxury', 'become', 'uni', 'cardiff', 'arms', 'laughed', 'score', 'swtheart', 'group', 'scared', 'doggy', 'lifpartnr', 'table', 'maintain', 'shot', 'gossip', 'juicy', 'diet', 'students', 'esplanade', 'garage', 'porn', 'snake', 'aren', 'fave', 'ntwk', 'jealous', 'crack', 'wet', 'letters', 'catching', 'grand', 'tirupur', 'honeybee', 'brothas', 'cine', 'nap', 'audition', 'moro', 'shorter', 'philosophy', 'lvblefrnd', 'activities', 'alwys', 'clos', 'schedule', 'evn', 'delivered', 'caring', 'confirmed', 'moved', 'proof', 'flight', 'bday', 'vijay', 'seat', 'sweetest', 'morrow', 'suntec', 'alive', 'cutefrnd', 'cleaning', 'jstfrnd', 'geeee', 'butt', 'burger', 'wud', 'ese', 'aftr', 'chechi', 'stars', 'science', 'polyph', 'provided', 'phne', 'storming', 'reminder', 'befor', 'term', 'idk', 'affairs', 'girlfrnd', 'cooking', 'lab', 'unredeemed', 'innings', 'apologise', 'cook', 'throat', 'margaret', 'grahmbell', 'whos', 'option', 'collecting', 'whenevr', 'twice', 'bigger', 'favour', 'arrested', 'bud', 'bet', 'invnted', 'handed', 'pissed', 'note', 'enjoyed', 'liked', 'walmart', 'telphone', 'fever', 'cruise', 'arng', 'passionate', 'prepare', 'issues', 'stamps', 'foreign', 'flaked', 'billed', 'films', 'bringing', 'source', 'buff', 'january', 'forevr', 'mmm', 'scary', 'contents', 'runs', 'maga', 'china', 'rush', 'dick', 'stranger', 'shortage', 'plane', 'urgently', 'bmw', 'solve', 'kadeem', 'women', 'cold', 'violence', 'messenger', 'lp', 'ben', 'belly', 'choice', 'fish', 'romantic', 'brilliant', 'bloo', 'timing', 'voicemail', 'walked', 'anythin', 'iouri', 'accordingly', 'caught', 'appt', 'di', 'buzy', 'dictionary', 'birth', 'fromm', 'screen', 'qxj', 'percent', 'regards', 'period', 'connect', 'coins', 'lives', 'fell', 'lions', 'title', 'gudnite', 'bloke', 'sometime', 'chatting', 'considering', 'eerie', 'cann', 'mono', 'gram', 'valuable', 'distance', 'ae', 'slap', 'sh', 'itz', 'photos', 'strike', 'changes', 'wear', 'winawk', 'brought', 'skilgme', 'nw', 'assume', 'guilty', 'peace', 'realize', 'invite', 'chicken', 'jess', 'file', 'bell', 'easier', 'winning', 'bein', 'toa', 'frying', 'payoh', 'cbe', 'mini', 'dropped', 'tablets', 'confidence', 'åð', 'total', 'msging', 'management', 'university', 'sugar', 'impossible', 'lounge', 'technical', 'mark', 'born', 'ham', 'shijas', 'smoking', 'favor', 'natural', 'tessy', 'tcs', 'gimme', 'cornwall', 'pongal', 'blame', 'moby', 'willing', 'jane', 'raise', 'mtmsgrcvd', 'explain', 'mega', 'hasn', 'greetings', 'collected', 'behave', 'works', 'quit', 'mix', 'verify', 'roads', 'elsewhere', 'dearer', 'moji', 'claire', 'instantly', 'dignity', 'action', 'sore', 'result', 'gentleman', 'chillin', 'understood', 'wrk', 'force', 'appointment', 'review', 'finishing', 'pleased', 'center', 'mummy', 'cuddle', 'exhausted', 'blow', 'returned', 'blessings', 'netcollex', 'walls', 'monthly', 'sender', 'wales', 'failed', 'concentrate', 'imma', 'falls', 'calicut', 'xxxxxxx', 'ws', 'cheaper', 'bishan', 'sentence', 'dry', 'okey', 'prey', 'lead', 'perfect', 'haiz', 'sachin', 'anybody', 'wn', 'exact', 'staff', 'cock', 'kettoda', 'tyler', 'moments', 'affection', 'bcums', 'community', 'channel', 'rofl', 'wtf', 'aunty', 'eggs', 'likes', 'major', 'dislikes', 'saved', 'death', 'manda', 'drunk', 'bags', 'tape', 'bathing', 'thm', 'gals', 'lyf', 'brief', 'andros', 'display', 'mis', 'blind', 'divorce', 'supply', 'birthdate', 'sitll', 'meanwhile', 'evenings', 'lines', 'wrnog', 'lyfu', 'loud', 'conform', 'cousin', 'hurting', 'calculation', 'thread', 'speed', 'improve', 'thanksgiving', 'infections', 'sweets', 'jsut', 'virgin', 'celebration', 'spoiled', 'curious', 'although', 'sleepwell', 'borin', 'evrey', 'splleing', 'craziest', 'smsco', 'hang', 'speedchat', 'allow', 'shoving', 'topic', 'exmpel', 'posts', 'pan', 'raed', 'headache', 'hoped', 'desires', 'division', 'toot', 'fill', 'upgrade', 'magical', 'borrow', 'darlings', 'eye', 'heads', 'faith', 'avatar', 'trade', 'polo', 'imp', 'smashed', 'detroit', 'picsfree', 'canada', 'macho', 'responce', 'xxxxxxxxx', 'suzy', 'happend', 'avoiding', 'sooooo', 'mesages', 'tog', 'flies', 'dearly', 'fake', 'calm', 'oil', 'melt', 'lst', 'ibn', 'nalla', 'competition', 'cme', 'cheat', 'mitsake', 'av', 'thx', 'ayn', 'wihtuot', 'fixedline', 'kiosk', 'yummy', 'lookatme', 'cnn', 'verified', 'control', 'confirmd', 'sunlight', 'ny', 'apps', 'neck', 'terrorist', 'bills', 'admin', 'ee', 'disconnect', 'gods', 'raj', 'sticky', 'sptv', 'market', 'beauty', 'chances', 'suggest', 'forms', 'filling', 'galileo', 'minimum', 'aco', 'setting', 'trav', 'opening', 'allowed', 'eurodisinc', 'aom', 'wind', 'delhi', 'goals', 'album', 'shocking', 'avent', 'boat', 'placement', 'morefrmmob', 'aj', 'sweetheart', 'worlds', 'filthy', 'sumthin', 'px', 'hol', 'rg', 'biola', 'sleepy', 'dobby', 'ibhltd', 'goldviking', 'fair', 'landlines', 'mag', 'poop', 'colours', 'lane', 'shipped', 'doubt', 'rhythm', 'stayin', 'cochin', 'housewives', 'belive', 'bluff', 'vday', 'grace', 'piss', 'lays', 'selfish', 'officially', 'escape', 'drove', 'instituitions', 'govt', 'bird', 'public', 'jamster', 'diff', 'priscilla', 'resume', 'frog', 'ground', 'yf', 'fucked', 'reasonable', 'gving', 'fl', 'jobs', 'driver', 'innocent', 'mca', 'response', 'teaches', 'pull', 'bloody', 'taylor', 'inshah', 'gender', 'causing', 'status', 'knowing', 'tension', 'dx', 'superior', 'boyfriend', 'waheed', 'tmrw', 'vu', 'decision', 'benefits', 'paragon', 'cooked', 'hubby', 'satisfy', 'thousands', 'bar', 'swoop', 'madam', 'bottom', 'visionsms', 'stress', 'aiya', 'mids', 'beneath', 'ke', 'addie', 'hockey', 'sar', 'neither', 'apart', 'edge', 'wating', 'cappuccino', 'record', 'dough', 'refused', 'pale', 'anniversary', 'requests', 'silver', 'shesil', 'correction', 'broken', 'hamster', 'welp', 'push', 'module', 'piece', 'jiayin', 'anna', 'nagar', 'appreciated', 'impatient', 'roast', 'shirts', 'underwear', 'value', 'engin', 'easter', 'exeter', 'tacos', 'figures', 'shock', 'tenants', 'nos', 'purpose', 'ms', 'transport', 'dime', 'prem', 'forums', 'arts', 'height', 'killing', 'garden', 'bulbs', 'seeds', 'hardcore', 'scotsman', 'lucozade', 'rally', 'notxt', 'pink', 'bck', 'wrc', 'xxxxxx', 'surely', 'purity', 'definite', 'gain', 'donno', 'citizen', 'penis', 'property', 'reminding', 'swiss', 'crore', 'fly', 'politicians', 'sn', 'konw', 'waht', 'rael', 'blu', 'tsandcs', 'csh', 'owns', 'shitload', 'blur', 'register', 'fear', 'differ', 'husband', 'rights', 'eire', 'wicklow', 'bray', 'stamped', 'stick', 'pole', 'flame', 'oooh', 'inform', 'swatch', 'heater', 'color', 'petrol', 'prolly', 'dave', 'error', 'castor', 'responsibility', 'didnåõt', 'onion', 'bootydelious', 'nok', 'fringe', 'mila', 'pouch', 'blonde', 'pt', 'superb', 'ey', 'handle', 'program', 'vomit', 'subpoly', 'sux', 'lip', 'tiwary', 'effects', 'sends', 'whatsup', 'forum', 'tayseer', 'tissco', 'shu', 'perhaps', 'ericsson', 'wishin', 'mtalk', 'oranges', 'keys', 'cw', 'os', 'lifetime', 'num', 'minor', 'everyday', 'laundry', 'messy', 'randy', 'careers', 'moves', 'mmmmmm', 'upd', 'coin', 'cali', 'crash', 'absolutly', 'lousy', 'donate', 'snogs', 'hugs', 'caroline', 'vth', 'eveb', 'ga', 'havenåõt', 'exhaust', 'increments', 'pp', 'accident', 'broad', 'indicate', 'reckon', 'taxi', 'certainly', 'answered', 'germany', 'fujitsu', 'series', 'soryda', 'journey', 'waxsto', 'serving', 'base', 'distract', 'difficulties', 'kay', 'doors', 'bone', 'postcode', 'duchess', 'hospitals', 'sory', 'hardly', 'callfreefone', 'smith', 'woulda', 'kidding', 'wipro', 'xam', 'manage', 'dressed', 'pours', 'ofå', 'dubsack', 'renewal', 'suppose', 'named', 'condition', 'coping', 'individual', 'kickoff', 'success', 'railway', 'remains', 'bro', 'eek', 'dial', 'hes', 'chest', 'nus', 'edu', 'teaching', 'ful', 'silence', 'singing', 'funk', 'shore', 'waves', 'drunken', 'natalie', 'strange', 'lovers', 'main', 'postcard', 'lf', 'rec', 'unfortunately', 'patty', 'hence', 'approx', 'consider', 'peaceful', 'northampton', 'afraid', 'upto', 'indyarocks', 'stopsms', 'recession', 'jen', 'nag', 'ideal', 'front', 'inconsiderate', 'telephone', 'rich', 'aww', 'hill', 'passed', 'hearts', 'finance', 'playing', 'tool', 'slide', 'genuine', 'erm', 'somtimes', 'occupy', 'successful', 'cld', 'popcorn', 'deus', 'quiet', 'aunts', 'helen', 'nothin', 'hide', 'waitin', 'sen', 'eta', 'talks', 'blake', 'console', 'ibh', 'orig', 'invaders', 'morn', 'lo', 'expired', 'cutting', 'sw', 'lil', 'ss', 'hopefully', 'surprised', 'miserable', 'evr', 'båõday', 'unknown', 'parking', 'sac', 'upload', 'ali', 'contacts', 'ned', 'nic', 'iscoming', 'misbehaved', 'aburo', 'countin', 'ultimatum', 'given', 'names', 'downloads', 'kz', 'japanese', 'proverb', 'skyped', 'building', 'coat', 'constant', 'cared', 'twelve', 'schools', 'tonights', 'inch', 'alcohol', 'carry', 'disturbing', 'stayed', 'art', 'slippers', 'flirting', 'relatives', 'xxxxx', 'loveme', 'waited', 'dedicated', 'dedicate', 'sufficient', 'beg', 'dificult', 'fightng', 'en', 'covers', 'dai', 'rightly', 'position', 'dancing', 'bite', 'dark', 'eight', 'crisis', 'denis', 'edison', 'viva', 'shut', 'thesis', 'amused', 'infront', 'acl', 'windows', 'royal', 'mistakes', 'flaky', 'dorm', 'lux', 'planet', 'gona', 'treated', 'fab', 'blessing', 'txttowin', 'theres', 'vid', 'shoot', 'elaine', 'dr', 'tlk', 'bruce', 'ruining', 'answers', 'environment', 'terrific', 'useful', 'jolly', 'bleh', 'parent', 'horo', 'star', 'probs', 'gardener', 'vegetables', 'neighbour', 'breathe', 'fees', 'hyde', 'diwali', 'constantly', 'refilled', 'jd', 'successfully', 'inr', 'keralacircle', 'prepaid', 'kr', 'titles', 'tap', 'spile', 'questioned', 'event', 'pop', 'attend', 'accounts', 'executive', 'thoughts', 'cares', 'falling', 'smeone', 'raji', 'promises', 'clear', 'payment', 'morphine', 'puttin', 'mnths', 'callback', 'cheer', 'soo', 'canal', 'claims', 'recovery', 'lion', 'brah', 'itåõs', 'tight', 'kaiez', 'randomly', 'jason', 'henry', 'scores', 'potato', 'ic', 'essexcm', 'shagged', 'acted', 'enuff', 'sacrifice', 'ne', 'mac', 'usb', 'scold', 'xn', 'datebox', 'freezing', 'ball', 'applebees', 'jackpot', 'dbuk', 'lccltd', 'rw', 'mystery', 'solved', 'customers', 'moving', 'fancies', 'loyal', 'language', 'le', 'fo', 'pre', 'loxahatchee', 'burning', 'secretly', 'ain', 'sue', 'textoperator', 'faggy', 'cam', 'size', 'irritating', 'agalla', 'effect', 'necessary', 'yellow', 'generally', 'demand', 'dan', 'mcat', 'atlanta', 'invest', 'anti', 'annoying', 'incident', 'kothi', 'print', 'necklace', 'på', 'warranty', 'bp', 'ebay', 'interest', 'cud', 'kappa', 'kindly', 'completed', 'activate', 'ela', 'responding', 'breath', 'wasted', 'chart', 'ja', 'hrishi', 'jeans', 'hahaha', 'brain', 'upset', 'managed', 'wave', 'secs', 'ppl', 'spring', 'tomarrow', 'woot', 'update_now', 'oic', 'filled', 'telugu', 'explicit', 'electricity', 'held', 'classes', 'tg', 'billion', 'expressoffer', 'spell', 'toll', 'rumour', 'grow', 'difference', 'birla', 'islands', 'lie', 'siva', 'ding', 'beer', 'regarding', 'diamonds', 'stones', 'ikea', 'canary', 'keeps', 'sharing', 'loans', 'mt', 'gautham', 'praying', 'lk', 'xavier', 'adventure', 'satisfied', 'maneesha', 'freedom', 'perwksub', 'taken', 'fran', 'delete', 'terrible', 'joining', 'prompts', 'wah', 'howard', 'mailbox', 'dealer', 'messaging', 'retrieve', 'unemployed', 'actor', 'lov', 'prefer', 'tues', 'beneficiary', 'ps', 'arun', 'items', 'garbage', 'whr', 'stuck', 'practical', 'transfer', 'hex', 'issue', 'nichols', 'map', 'soul', 'soiree', 'morow', 'begging', 'kicks', 'tech', 'pride', 'salam', 'transfr', 'soft', 'actual', 'restaurant', 'floor', 'jas', 'rice', 'tortilla', 'goodo', 'curry', 'taste', 'gent', 'flowing', 'everywhere', 'blessed', 'geva', 'wearing', 'quickly', 'closes', 'sells', 'greatest', 'courage', 'bear', 'racing', 'develop', 'deciding', 'gpu', 'mokka', 'apo', 'clothes', 'trips', 'fuckin', 'replacement', 'lionm', 'lionp', 'partnership', 'drinkin', 'shipping', 'bids', 'ola', 'pee', 'reaction', 'tooo', 'range', 'admit', 'defeat', 'networking', 'beloved', 'booty', 'fil', 'bhaji', 'cricketer', 'slp', 'muah', 'meets', 'tee', 'makin', 'ing', 'hppnss', 'abj', 'spider', 'deleted', 'dumb', 'poker', 'centre', 'staring', 'cashbin', 'faster', 'mel', 'outta', 'receivea', 'instructions', 'sorrow', 'follow', 'goodfriend', 'decisions', 'various', 'returns', 'loose', 'subscribed', 'ummmmmaah', 'helpline', 'nervous', 'ma', 'uncles', 'anot', 'tahan', 'kl', 'neft', 'slip', 'mails', 'jogging', 'properly', 'onwards', 'cashto', 'incredible', 'fwd', 'recharge', 'improved', 'kills', 'evrydy', 'callin', 'drinking', 'gthr', 'genius', 'happily', 'creep', 'lived', 'thy', 'purse', 'getstop', 'million', 'seconds', 'tease', 'stomps', 'ganesh', 'dress', 'several', 'pouts', 'realise', 'devouring', 'dokey', 'jsco', 'php', 'strong', 'pieces', 'thgt', 'web', 'despite', 'discreet', 'maturity', 'lib', 'usher', 'britney', 'middle', 'gifted', 'ability', 'parco', 'nb', 'jenny', 'propose', 'rr', 'tomeandsaid', 'gf', 'lovingly', 'eighth', 'dippeditinadew', 'gibbs', 'headin', 'vewy', 'saucy', 'celeb', 'pocketbabe', 'affair', 'mental', 'wld', 'fav', 'slightly', 'shouted', 'bread', 'ran', 'educational', 'speeding', 'truck', 'mandan', 'connections', 'dt', 'aproach', 'threw', 'lttrs', 'lv', 'gv', 'propsd', 'chasing', 'west', 'feet', 'pap', 'aka', 'bedrm', 'atlast', 'fire', 'mathematics', 'cheating', 'reverse', 'count', 'seemed', 'pence', 'sinco', 'bright', 'payee', 'icicibank', 'frauds', 'disclose', 'qu', 'slots', 'painting', 'sheffield', 'lock', 'pen', 'tkts', 'rule', 'football', 'select', 'east', 'coast', 'wp', 'kegger', 'ibiza', 'toshiba', 'truffles', 'oreo', 'bristol', 'combine', 'twenty', 'prescription', 'insha', 'premier', 'ryan', 'halloween', 'prince', 'express', 'lou', 'uh', 'charles', 'nasty', 'slo', 'james', 'desparate', 'tyrone', 'ansr', 'newest', 'arent', 'sport', 'funky', 'woken', 'earn', 'tirunelvali', 'skip', 'msgrcvd', 'tests', 'male', 'fastest', 'ias', 'growing', 'rewarding', 'mobilesvary', 'sathya', 'wml', 'seven', 'europe', 'ba', 'index', 'dining', 'asp', 'whn', 'widelive', 'ofice', 'tms', 'maangalyam', 'alaipayuthe', 'txtstop', 'meow']\n",
      "3460\n"
     ]
    }
   ],
   "source": [
    "# Generate a list of words the word2vec model learned word vectors for, from X_train\n",
    "print(w2v_model.wv.index_to_key)\n",
    "print(len(w2v_model.wv.index_to_key))"
   ]
  },
  {
   "cell_type": "code",
   "execution_count": 101,
   "id": "8fea44b0",
   "metadata": {},
   "outputs": [
    {
     "name": "stdout",
     "output_type": "stream",
     "text": [
      "['ok', 'which', 'your', 'another', 'number']\n",
      "['free', 'day', 'sexy', 'st', 'george', 'day', 'pic', 'of', 'jordan', 'txt', 'pic', 'to', 'dont', 'miss', 'out', 'then', 'every', 'wk', 'saucy', 'celeb', 'more', 'pics', 'pocketbabe', 'co', 'uk', 'wk']\n",
      "['hey', 'mate', 'hows', 'honey', 'did', 'ave', 'good', 'holiday', 'gimmi', 'de', 'goss']\n",
      "['its', 'good', 'we', 'll', 'find', 'way']\n",
      "['am', 'not', 'interested', 'to', 'do', 'like', 'that']\n"
     ]
    }
   ],
   "source": [
    "# Generate aggregated sentence vectors based on the word vectors for each word in the sentence\n",
    "for msg in X_test[:5]:\n",
    "    print(msg)"
   ]
  },
  {
   "cell_type": "code",
   "execution_count": 102,
   "id": "850c7837",
   "metadata": {},
   "outputs": [],
   "source": [
    "# Reduce dimension\n",
    "from sklearn.decomposition import PCA\n",
    "\n",
    "pca = PCA(n_components=3)"
   ]
  },
  {
   "cell_type": "code",
   "execution_count": 103,
   "id": "6c2a4209",
   "metadata": {},
   "outputs": [],
   "source": [
    "X_pca = pca.fit_transform(w2v_model.wv.get_normed_vectors())"
   ]
  },
  {
   "cell_type": "code",
   "execution_count": 104,
   "id": "2b06e8c0",
   "metadata": {},
   "outputs": [
    {
     "data": {
      "text/plain": [
       "(3460, 3)"
      ]
     },
     "execution_count": 104,
     "metadata": {},
     "output_type": "execute_result"
    }
   ],
   "source": [
    "X_pca.shape"
   ]
  },
  {
   "cell_type": "code",
   "execution_count": 105,
   "id": "b6bf9bc4",
   "metadata": {},
   "outputs": [],
   "source": [
    "import plotly.express as px \n",
    "import plotly.io as pio\n",
    "# Set the renderer to open in a browser\n",
    "pio.renderers.default = 'browser'\n",
    "\n",
    "fig = px.scatter_3d(X_pca[50:150], x=0, y=1, z=2, color=y[50:150])\n",
    "fig.show()"
   ]
  }
 ],
 "metadata": {
  "kernelspec": {
   "display_name": "env",
   "language": "python",
   "name": "python3"
  },
  "language_info": {
   "codemirror_mode": {
    "name": "ipython",
    "version": 3
   },
   "file_extension": ".py",
   "mimetype": "text/x-python",
   "name": "python",
   "nbconvert_exporter": "python",
   "pygments_lexer": "ipython3",
   "version": "3.12.1"
  }
 },
 "nbformat": 4,
 "nbformat_minor": 5
}
